{
  "cells": [
    {
      "cell_type": "markdown",
      "metadata": {
        "id": "eMqk8HY5YZuP"
      },
      "source": [
        "Contents:<br>\n",
        "- Setup\n",
        "- Preprocessing Data\n",
        "- ResNet101\n",
        " - Feature Extraction from pre-trained model\n",
        " - Fine-tuning of pre-trained model\n",
        " - Results\n",
        "- VGG16\n",
        " - Feature Extraction from pre-trained model\n",
        " - Fine-tuning of pre-trained model\n",
        " - Results\n",
        "- Comparison of ResNet101 and VGG16"
      ]
    },
    {
      "cell_type": "markdown",
      "metadata": {
        "id": "___WPHyLZVby"
      },
      "source": [
        "## Setup"
      ]
    },
    {
      "cell_type": "code",
      "execution_count": null,
      "metadata": {
        "colab": {
          "base_uri": "https://localhost:8080/"
        },
        "id": "Gt1BsaS7BQMK",
        "outputId": "30c2c1cc-110c-4418-d5c2-ffc30372b575"
      },
      "outputs": [
        {
          "name": "stdout",
          "output_type": "stream",
          "text": [
            "Mounted at /content/drive\n"
          ]
        }
      ],
      "source": [
        "from google.colab import drive\n",
        "drive.mount('/content/drive')"
      ]
    },
    {
      "cell_type": "code",
      "execution_count": null,
      "metadata": {
        "colab": {
          "base_uri": "https://localhost:8080/"
        },
        "id": "dbNGcuFNBRrl",
        "outputId": "edb948f0-300c-4e12-c58f-336cc2727b5a"
      },
      "outputs": [
        {
          "name": "stdout",
          "output_type": "stream",
          "text": [
            "[Errno 2] No such file or directory: 'drive/My Drive/CMI/sem-4/CV/data/data'\n",
            "/content/drive/My Drive/CMI/sem-4/CV\n"
          ]
        }
      ],
      "source": [
        "cd drive/'My Drive'/CMI/sem-4/CV/data/data"
      ]
    },
    {
      "cell_type": "code",
      "execution_count": null,
      "metadata": {
        "colab": {
          "base_uri": "https://localhost:8080/"
        },
        "id": "wJb7Xz8cBgeL",
        "outputId": "bf59d576-423f-419f-e950-5adbef881d6b"
      },
      "outputs": [
        {
          "name": "stdout",
          "output_type": "stream",
          "text": [
            "\u001b[0m\u001b[01;34mtest\u001b[0m/  \u001b[01;34mtrain\u001b[0m/\n"
          ]
        }
      ],
      "source": [
        "ls"
      ]
    },
    {
      "cell_type": "code",
      "execution_count": null,
      "metadata": {
        "id": "FtRq6hYxG3if"
      },
      "outputs": [],
      "source": [
        "#!mkdir data\n",
        "#!unzip 'data.zip' -d 'data/'"
      ]
    },
    {
      "cell_type": "code",
      "execution_count": null,
      "metadata": {
        "id": "WARRKjcd1c1J"
      },
      "outputs": [],
      "source": [
        "import tensorflow as tf\n",
        "import numpy as np\n",
        "import matplotlib.pyplot as plt"
      ]
    },
    {
      "cell_type": "markdown",
      "metadata": {
        "id": "cLdkv7JCYBcF"
      },
      "source": [
        "## Preprocessing Data"
      ]
    },
    {
      "cell_type": "code",
      "execution_count": null,
      "metadata": {
        "id": "4MNmvIosTKve"
      },
      "outputs": [],
      "source": [
        "train_datagen = tf.keras.preprocessing.image.ImageDataGenerator(rescale=1./255,validation_split=0.33)\n",
        "test_datagen = tf.keras.preprocessing.image.ImageDataGenerator(rescale=1./255)"
      ]
    },
    {
      "cell_type": "code",
      "execution_count": null,
      "metadata": {
        "colab": {
          "base_uri": "https://localhost:8080/",
          "height": 68
        },
        "id": "z93geOCITJiy",
        "outputId": "44231529-8b6b-47f4-86ce-066a69d636b9"
      },
      "outputs": [
        {
          "name": "stdout",
          "output_type": "stream",
          "text": [
            "Found 3630 images belonging to 15 classes.\n",
            "Found 1770 images belonging to 15 classes.\n",
            "Found 1800 images belonging to 15 classes.\n"
          ]
        }
      ],
      "source": [
        "train_generator = train_datagen.flow_from_directory('train',target_size=(224,224),batch_size=32,\n",
        "                                                    class_mode='categorical',shuffle=True,subset='training')\n",
        "valid_generator = train_datagen.flow_from_directory('train',target_size=(224,224),batch_size=32,\n",
        "                                                    class_mode='categorical',shuffle=True,subset='validation')\n",
        "test_generator = test_datagen.flow_from_directory('test',target_size=(224,224),batch_size=32,class_mode='categorical')"
      ]
    },
    {
      "cell_type": "markdown",
      "metadata": {
        "id": "pRFjckakZjeO"
      },
      "source": [
        "## ResNet101"
      ]
    },
    {
      "cell_type": "markdown",
      "metadata": {
        "id": "7qgs5qK8EfrK"
      },
      "source": [
        "#### Feature extraction model\n",
        "This has a ResNet101 pre-trained model with all layers frozen. Its output is flattened and a classification layer is added after that."
      ]
    },
    {
      "cell_type": "code",
      "execution_count": null,
      "metadata": {
        "id": "NWcirMDYyBp8"
      },
      "outputs": [],
      "source": [
        "resnet101 = tf.keras.applications.resnet.ResNet101(include_top=False, weights='imagenet', input_shape=(224,224,3))\n",
        "resnet101.trainable=False"
      ]
    },
    {
      "cell_type": "code",
      "execution_count": null,
      "metadata": {
        "colab": {
          "base_uri": "https://localhost:8080/",
          "height": 289
        },
        "id": "Tlh8N0XYzY6F",
        "outputId": "9a512ccd-fcad-45ac-ab90-a140f4aca939"
      },
      "outputs": [
        {
          "name": "stdout",
          "output_type": "stream",
          "text": [
            "Model: \"sequential_8\"\n",
            "_________________________________________________________________\n",
            "Layer (type)                 Output Shape              Param #   \n",
            "=================================================================\n",
            "resnet101 (Model)            (None, 7, 7, 2048)        42658176  \n",
            "_________________________________________________________________\n",
            "flatten_7 (Flatten)          (None, 100352)            0         \n",
            "_________________________________________________________________\n",
            "dropout_12 (Dropout)         (None, 100352)            0         \n",
            "_________________________________________________________________\n",
            "dense_12 (Dense)             (None, 15)                1505295   \n",
            "=================================================================\n",
            "Total params: 44,163,471\n",
            "Trainable params: 1,505,295\n",
            "Non-trainable params: 42,658,176\n",
            "_________________________________________________________________\n"
          ]
        }
      ],
      "source": [
        "resnet_base = tf.keras.models.Sequential()\n",
        "resnet_base.add(resnet101)\n",
        "resnet_base.add(tf.keras.layers.Flatten())\n",
        "resnet_base.add(tf.keras.layers.Dropout(0.4))\n",
        "resnet_base.add(tf.keras.layers.Dense(15, activation='softmax'))\n",
        "resnet_base.compile(loss=tf.keras.losses.categorical_crossentropy,\n",
        "                    optimizer=tf.keras.optimizers.Adamax(lr=0.0001),metrics=['accuracy'])\n",
        "resnet_base.summary()"
      ]
    },
    {
      "cell_type": "code",
      "execution_count": null,
      "metadata": {
        "colab": {
          "base_uri": "https://localhost:8080/",
          "height": 1000
        },
        "id": "QVxO907BM13X",
        "outputId": "c0008e32-f38b-46b2-99ce-cee4a49b264c"
      },
      "outputs": [
        {
          "name": "stdout",
          "output_type": "stream",
          "text": [
            "Epoch 1/30\n",
            "114/114 [==============================] - 122s 1s/step - loss: 2.8910 - accuracy: 0.1017 - val_loss: 2.3922 - val_accuracy: 0.2141\n",
            "Epoch 2/30\n",
            "114/114 [==============================] - 123s 1s/step - loss: 2.6393 - accuracy: 0.1543 - val_loss: 2.2583 - val_accuracy: 0.2463\n",
            "Epoch 3/30\n",
            "114/114 [==============================] - 118s 1s/step - loss: 2.5138 - accuracy: 0.1837 - val_loss: 2.1663 - val_accuracy: 0.3271\n",
            "Epoch 4/30\n",
            "114/114 [==============================] - 121s 1s/step - loss: 2.3823 - accuracy: 0.2146 - val_loss: 2.1286 - val_accuracy: 0.3299\n",
            "Epoch 5/30\n",
            "114/114 [==============================] - 119s 1s/step - loss: 2.3315 - accuracy: 0.2278 - val_loss: 2.0661 - val_accuracy: 0.3277\n",
            "Epoch 6/30\n",
            "114/114 [==============================] - 123s 1s/step - loss: 2.2097 - accuracy: 0.2636 - val_loss: 2.0440 - val_accuracy: 0.3412\n",
            "Epoch 7/30\n",
            "114/114 [==============================] - 124s 1s/step - loss: 2.1919 - accuracy: 0.2813 - val_loss: 1.9693 - val_accuracy: 0.3678\n",
            "Epoch 8/30\n",
            "114/114 [==============================] - 123s 1s/step - loss: 2.1064 - accuracy: 0.2862 - val_loss: 1.9658 - val_accuracy: 0.3542\n",
            "Epoch 9/30\n",
            "114/114 [==============================] - 123s 1s/step - loss: 2.0463 - accuracy: 0.3229 - val_loss: 1.9040 - val_accuracy: 0.4260\n",
            "Epoch 10/30\n",
            "114/114 [==============================] - 125s 1s/step - loss: 2.0567 - accuracy: 0.3168 - val_loss: 1.8950 - val_accuracy: 0.3853\n",
            "Epoch 11/30\n",
            "114/114 [==============================] - 124s 1s/step - loss: 1.9832 - accuracy: 0.3364 - val_loss: 1.9035 - val_accuracy: 0.3887\n",
            "Epoch 12/30\n",
            "114/114 [==============================] - 121s 1s/step - loss: 1.9540 - accuracy: 0.3452 - val_loss: 1.8593 - val_accuracy: 0.4169\n",
            "Epoch 13/30\n",
            "114/114 [==============================] - 123s 1s/step - loss: 1.9455 - accuracy: 0.3595 - val_loss: 1.8919 - val_accuracy: 0.3701\n",
            "Epoch 14/30\n",
            "114/114 [==============================] - 125s 1s/step - loss: 1.8710 - accuracy: 0.3837 - val_loss: 1.8409 - val_accuracy: 0.4079\n",
            "Epoch 15/30\n",
            "114/114 [==============================] - 127s 1s/step - loss: 1.8728 - accuracy: 0.3769 - val_loss: 1.7913 - val_accuracy: 0.4028\n",
            "Epoch 16/30\n",
            "114/114 [==============================] - 122s 1s/step - loss: 1.8285 - accuracy: 0.3956 - val_loss: 1.8305 - val_accuracy: 0.3994\n",
            "Epoch 17/30\n",
            "114/114 [==============================] - 125s 1s/step - loss: 1.8102 - accuracy: 0.3972 - val_loss: 1.7952 - val_accuracy: 0.4136\n",
            "Epoch 18/30\n",
            "114/114 [==============================] - 125s 1s/step - loss: 1.8381 - accuracy: 0.3904 - val_loss: 1.8013 - val_accuracy: 0.4023\n",
            "Epoch 19/30\n",
            "114/114 [==============================] - 125s 1s/step - loss: 1.7556 - accuracy: 0.4088 - val_loss: 1.7637 - val_accuracy: 0.4339\n",
            "Epoch 20/30\n",
            "114/114 [==============================] - 127s 1s/step - loss: 1.7845 - accuracy: 0.4083 - val_loss: 1.7889 - val_accuracy: 0.4136\n",
            "Epoch 21/30\n",
            "114/114 [==============================] - 123s 1s/step - loss: 1.7525 - accuracy: 0.4152 - val_loss: 1.7338 - val_accuracy: 0.4452\n",
            "Epoch 22/30\n",
            "114/114 [==============================] - 124s 1s/step - loss: 1.7099 - accuracy: 0.4366 - val_loss: 1.7591 - val_accuracy: 0.4282\n",
            "Epoch 23/30\n",
            "114/114 [==============================] - 127s 1s/step - loss: 1.6991 - accuracy: 0.4355 - val_loss: 1.7420 - val_accuracy: 0.4203\n",
            "Epoch 24/30\n",
            "114/114 [==============================] - 129s 1s/step - loss: 1.7040 - accuracy: 0.4284 - val_loss: 1.7707 - val_accuracy: 0.4249\n",
            "Epoch 25/30\n",
            "114/114 [==============================] - 123s 1s/step - loss: 1.6564 - accuracy: 0.4636 - val_loss: 1.7272 - val_accuracy: 0.4322\n",
            "Epoch 26/30\n",
            "114/114 [==============================] - 122s 1s/step - loss: 1.6650 - accuracy: 0.4424 - val_loss: 1.7136 - val_accuracy: 0.4373\n",
            "Epoch 27/30\n",
            "114/114 [==============================] - 125s 1s/step - loss: 1.6003 - accuracy: 0.4667 - val_loss: 1.7203 - val_accuracy: 0.4367\n",
            "Epoch 28/30\n",
            "114/114 [==============================] - 124s 1s/step - loss: 1.6503 - accuracy: 0.4518 - val_loss: 1.6947 - val_accuracy: 0.4407\n",
            "Epoch 29/30\n",
            "114/114 [==============================] - 127s 1s/step - loss: 1.5978 - accuracy: 0.4691 - val_loss: 1.6874 - val_accuracy: 0.4452\n",
            "Epoch 30/30\n",
            "114/114 [==============================] - 124s 1s/step - loss: 1.6120 - accuracy: 0.4598 - val_loss: 1.6853 - val_accuracy: 0.4605\n"
          ]
        }
      ],
      "source": [
        "resnet_base_hist = resnet_base.fit_generator(train_generator,validation_data=valid_generator,epochs=30,\n",
        "                                       steps_per_epoch=114,validation_steps=56)"
      ]
    },
    {
      "cell_type": "code",
      "execution_count": null,
      "metadata": {
        "colab": {
          "base_uri": "https://localhost:8080/",
          "height": 51
        },
        "id": "WEAKb-MbIqqV",
        "outputId": "3e90ec3f-72a4-4ebd-f994-fdfe4ba1b9ca"
      },
      "outputs": [
        {
          "name": "stdout",
          "output_type": "stream",
          "text": [
            "57/57 [==============================] - 26s 455ms/step - loss: 1.7014 - accuracy: 0.4623\n",
            "ResNet101 Base model validation accuracy: 0.4623\n"
          ]
        }
      ],
      "source": [
        "_, resnet_base_valid_acc = resnet_base.evaluate(valid_generator,steps=57)\n",
        "print('ResNet101 Base model validation accuracy: %.4f' % resnet_base_valid_acc)"
      ]
    },
    {
      "cell_type": "markdown",
      "metadata": {
        "id": "lM8LnCtNFTN-"
      },
      "source": [
        "#### Fine-Tuning model\n",
        "Here we unfreeze a portion of the ResNet101 model."
      ]
    },
    {
      "cell_type": "code",
      "execution_count": null,
      "metadata": {
        "id": "BLK1fW0ZMOhl"
      },
      "outputs": [],
      "source": [
        "resnet101 = tf.keras.applications.resnet.ResNet101(include_top=False, weights='imagenet', input_shape=(224,224,3))\n",
        "for layer in resnet101.layers[:-60]:\n",
        "  layer.trainable = False\n",
        "# By default, all the layers are trainable. So they have to be specified as not trainable."
      ]
    },
    {
      "cell_type": "code",
      "execution_count": null,
      "metadata": {
        "colab": {
          "base_uri": "https://localhost:8080/",
          "height": 289
        },
        "id": "kYFZjMrfG8s9",
        "outputId": "e391bc9a-0241-4cdc-8fab-c38587f5acc7"
      },
      "outputs": [
        {
          "name": "stdout",
          "output_type": "stream",
          "text": [
            "Model: \"sequential_13\"\n",
            "_________________________________________________________________\n",
            "Layer (type)                 Output Shape              Param #   \n",
            "=================================================================\n",
            "resnet101 (Model)            (None, 7, 7, 2048)        42658176  \n",
            "_________________________________________________________________\n",
            "flatten_12 (Flatten)         (None, 100352)            0         \n",
            "_________________________________________________________________\n",
            "dropout_17 (Dropout)         (None, 100352)            0         \n",
            "_________________________________________________________________\n",
            "dense_17 (Dense)             (None, 15)                1505295   \n",
            "=================================================================\n",
            "Total params: 44,163,471\n",
            "Trainable params: 19,574,543\n",
            "Non-trainable params: 24,588,928\n",
            "_________________________________________________________________\n"
          ]
        }
      ],
      "source": [
        "resnet_fine_tuned = tf.keras.models.Sequential()\n",
        "resnet_fine_tuned.add(resnet101)\n",
        "resnet_fine_tuned.add(tf.keras.layers.Flatten())\n",
        "resnet_fine_tuned.add(tf.keras.layers.Dropout(0.5))\n",
        "resnet_fine_tuned.add(tf.keras.layers.Dense(15, activation='softmax'))\n",
        "resnet_fine_tuned.compile(loss=tf.keras.losses.categorical_crossentropy,\n",
        "                    optimizer=tf.keras.optimizers.Adamax(lr=0.0001),metrics=['accuracy'])\n",
        "resnet_fine_tuned.summary()"
      ]
    },
    {
      "cell_type": "code",
      "execution_count": null,
      "metadata": {
        "colab": {
          "base_uri": "https://localhost:8080/",
          "height": 717
        },
        "id": "9FEQScKUG8lX",
        "outputId": "6f5c6b5e-9634-42a7-98e3-4ecc031f8fd6"
      },
      "outputs": [
        {
          "name": "stdout",
          "output_type": "stream",
          "text": [
            "Epoch 1/20\n",
            "114/114 [==============================] - 133s 1s/step - loss: 2.8323 - accuracy: 0.2631 - val_loss: 2.7299 - val_accuracy: 0.1175\n",
            "Epoch 2/20\n",
            "114/114 [==============================] - 126s 1s/step - loss: 1.9919 - accuracy: 0.3931 - val_loss: 2.2570 - val_accuracy: 0.2621\n",
            "Epoch 3/20\n",
            "114/114 [==============================] - 124s 1s/step - loss: 1.5532 - accuracy: 0.4978 - val_loss: 1.6580 - val_accuracy: 0.4661\n",
            "Epoch 4/20\n",
            "114/114 [==============================] - 124s 1s/step - loss: 1.3416 - accuracy: 0.5598 - val_loss: 1.5950 - val_accuracy: 0.4718\n",
            "Epoch 5/20\n",
            "114/114 [==============================] - 120s 1s/step - loss: 1.1581 - accuracy: 0.6069 - val_loss: 1.6893 - val_accuracy: 0.4904\n",
            "Epoch 6/20\n",
            "114/114 [==============================] - 124s 1s/step - loss: 1.0430 - accuracy: 0.6507 - val_loss: 1.5929 - val_accuracy: 0.4768\n",
            "Epoch 7/20\n",
            "114/114 [==============================] - 121s 1s/step - loss: 0.8541 - accuracy: 0.7033 - val_loss: 1.5518 - val_accuracy: 0.5023\n",
            "Epoch 8/20\n",
            "114/114 [==============================] - 123s 1s/step - loss: 0.7960 - accuracy: 0.7331 - val_loss: 1.7010 - val_accuracy: 0.5011\n",
            "Epoch 9/20\n",
            "114/114 [==============================] - 121s 1s/step - loss: 0.6688 - accuracy: 0.7738 - val_loss: 1.6734 - val_accuracy: 0.4859\n",
            "Epoch 10/20\n",
            "114/114 [==============================] - 123s 1s/step - loss: 0.5589 - accuracy: 0.8102 - val_loss: 1.8323 - val_accuracy: 0.4650\n",
            "Epoch 11/20\n",
            "114/114 [==============================] - 122s 1s/step - loss: 0.4904 - accuracy: 0.8430 - val_loss: 1.5895 - val_accuracy: 0.5130\n",
            "Epoch 12/20\n",
            "114/114 [==============================] - 121s 1s/step - loss: 0.4141 - accuracy: 0.8631 - val_loss: 1.6996 - val_accuracy: 0.5316\n",
            "Epoch 13/20\n",
            "114/114 [==============================] - 123s 1s/step - loss: 0.3518 - accuracy: 0.8876 - val_loss: 1.7634 - val_accuracy: 0.5062\n",
            "Epoch 14/20\n",
            "114/114 [==============================] - 122s 1s/step - loss: 0.3057 - accuracy: 0.9039 - val_loss: 1.6824 - val_accuracy: 0.5271\n",
            "Epoch 15/20\n",
            "114/114 [==============================] - 123s 1s/step - loss: 0.2420 - accuracy: 0.9256 - val_loss: 1.8162 - val_accuracy: 0.4955\n",
            "Epoch 16/20\n",
            "114/114 [==============================] - 123s 1s/step - loss: 0.2428 - accuracy: 0.9204 - val_loss: 1.8987 - val_accuracy: 0.5412\n",
            "Epoch 17/20\n",
            "114/114 [==============================] - 121s 1s/step - loss: 0.2016 - accuracy: 0.9375 - val_loss: 1.9075 - val_accuracy: 0.4983\n",
            "Epoch 18/20\n",
            "114/114 [==============================] - 124s 1s/step - loss: 0.1883 - accuracy: 0.9421 - val_loss: 1.8345 - val_accuracy: 0.5333\n",
            "Epoch 19/20\n",
            "114/114 [==============================] - 121s 1s/step - loss: 0.1460 - accuracy: 0.9567 - val_loss: 1.8391 - val_accuracy: 0.5147\n",
            "Epoch 20/20\n",
            "114/114 [==============================] - 124s 1s/step - loss: 0.1591 - accuracy: 0.9485 - val_loss: 1.8969 - val_accuracy: 0.5328\n"
          ]
        }
      ],
      "source": [
        "resnet_fine_tuned_hist = resnet_fine_tuned.fit_generator(train_generator,validation_data=valid_generator,\n",
        "                                                         epochs=20,steps_per_epoch=114,validation_steps=56)"
      ]
    },
    {
      "cell_type": "code",
      "execution_count": null,
      "metadata": {
        "colab": {
          "base_uri": "https://localhost:8080/",
          "height": 51
        },
        "id": "9joY8jafWl4I",
        "outputId": "01e71e45-b5e6-47fd-980a-70242230b93f"
      },
      "outputs": [
        {
          "name": "stdout",
          "output_type": "stream",
          "text": [
            "57/57 [==============================] - 25s 435ms/step - loss: 1.8539 - accuracy: 0.5450\n",
            "ResNet101 Fine tuned model validation accuracy: 0.5450\n"
          ]
        }
      ],
      "source": [
        "_, resnet_fine_tuned_valid_acc = resnet_fine_tuned.evaluate(valid_generator,steps=57)\n",
        "print('ResNet101 Fine tuned model validation accuracy: %.4f' % resnet_fine_tuned_valid_acc)"
      ]
    },
    {
      "cell_type": "markdown",
      "metadata": {
        "id": "CUSPBnelmqnH"
      },
      "source": [
        "#### Results\n",
        "<br>Test Accuracy of ResNet101 Base and Fine tuned models.<br>\n",
        "Resnet101 base model - 44.8% test acc<br>\n",
        "Resnet101 Fine tuned - 54.4% test acc"
      ]
    },
    {
      "cell_type": "code",
      "execution_count": null,
      "metadata": {
        "colab": {
          "base_uri": "https://localhost:8080/",
          "height": 51
        },
        "id": "Kr9XOVZLsk8V",
        "outputId": "274b630f-fe21-4b0a-f373-8022d0512a5d"
      },
      "outputs": [
        {
          "name": "stdout",
          "output_type": "stream",
          "text": [
            "57/57 [==============================] - 39s 685ms/step - loss: 1.6608 - accuracy: 0.4483\n",
            "ResNet101 Base model test accuracy: 0.4483\n"
          ]
        }
      ],
      "source": [
        "_, resnet_base_acc = resnet_base.evaluate(test_generator,steps=57)\n",
        "print('ResNet101 Base model test accuracy: %.4f' % resnet_base_acc)"
      ]
    },
    {
      "cell_type": "code",
      "execution_count": null,
      "metadata": {
        "colab": {
          "base_uri": "https://localhost:8080/",
          "height": 51
        },
        "id": "O9d-LA-YsmLp",
        "outputId": "ec933b07-2e77-49db-e0cc-c73a8b76c664"
      },
      "outputs": [
        {
          "name": "stdout",
          "output_type": "stream",
          "text": [
            "57/57 [==============================] - 42s 735ms/step - loss: 1.7876 - accuracy: 0.5444\n",
            "ResNet101 Fine tuned model test accuracy: 0.5444\n"
          ]
        }
      ],
      "source": [
        "_, resnet_fine_tuned_acc = resnet_fine_tuned.evaluate(test_generator,steps=57)\n",
        "print('ResNet101 Fine tuned model test accuracy: %.4f' % resnet_fine_tuned_acc)"
      ]
    },
    {
      "cell_type": "markdown",
      "metadata": {
        "id": "a-X80kgftND_"
      },
      "source": [
        "<br>Loss and Accuracy plots of Feature extraction (base) model and Fine tuned model."
      ]
    },
    {
      "cell_type": "code",
      "execution_count": null,
      "metadata": {
        "colab": {
          "base_uri": "https://localhost:8080/",
          "height": 350
        },
        "id": "bWmB0QhdWj06",
        "outputId": "5a641bee-b43d-446c-e911-4c5769765bc9"
      },
      "outputs": [
        {
          "data": {
            "image/png": "[encoded data removed]",
            "text/plain": [
              "<Figure size 720x360 with 2 Axes>"
            ]
          },
          "metadata": {
            "needs_background": "light",
            "tags": []
          },
          "output_type": "display_data"
        }
      ],
      "source": [
        "# Loss and Accuracy plots of ResNet101 Base model\n",
        "fig = plt.gcf()\n",
        "fig.set_size_inches(10,5)\n",
        "plt.subplot(1,2,1)\n",
        "plt.plot(resnet_base_hist.history['loss'])\n",
        "plt.plot(resnet_base_hist.history['val_loss'])\n",
        "plt.title('ResNet101 base Model Loss')\n",
        "plt.ylabel('Loss')\n",
        "plt.xlabel('Epoch')\n",
        "plt.legend(['Train', 'Validation'], loc='upper left')\n",
        "plt.subplot(1,2,2)\n",
        "plt.plot(resnet_base_hist.history['accuracy'])\n",
        "plt.plot(resnet_base_hist.history['val_accuracy'])\n",
        "plt.title('ResNet101 base Model Accuracy')\n",
        "plt.ylabel('Accuracy')\n",
        "plt.xlabel('Epoch')\n",
        "plt.legend(['Train', 'Validation'], loc='upper left')\n",
        "plt.show()"
      ]
    },
    {
      "cell_type": "code",
      "execution_count": null,
      "metadata": {
        "colab": {
          "base_uri": "https://localhost:8080/",
          "height": 350
        },
        "id": "frnja80onFq6",
        "outputId": "22be11e4-dd96-4e12-86fd-33b779d59d69"
      },
      "outputs": [
        {
          "data": {
            "image/png": "[encoded data removed]",
            "text/plain": [
              "<Figure size 720x360 with 2 Axes>"
            ]
          },
          "metadata": {
            "needs_background": "light",
            "tags": []
          },
          "output_type": "display_data"
        }
      ],
      "source": [
        "# Loss and Accuracy plots of ResNet101 Fine tuned model\n",
        "fig = plt.gcf()\n",
        "fig.set_size_inches(10,5)\n",
        "plt.subplot(1,2,1)\n",
        "plt.plot(resnet_fine_tuned_hist.history['loss'])\n",
        "plt.plot(resnet_fine_tuned_hist.history['val_loss'])\n",
        "plt.title('ResNet101 Fine tuned Model Loss')\n",
        "plt.ylabel('Loss')\n",
        "plt.xlabel('Epoch')\n",
        "plt.legend(['Train', 'Validation'], loc='upper left')\n",
        "plt.subplot(1,2,2)\n",
        "plt.plot(resnet_fine_tuned_hist.history['accuracy'])\n",
        "plt.plot(resnet_fine_tuned_hist.history['val_accuracy'])\n",
        "plt.title('ResNet101 Fine tuned Model Accuracy')\n",
        "plt.ylabel('Accuracy')\n",
        "plt.xlabel('Epoch')\n",
        "plt.legend(['Train', 'Validation'], loc='upper left')\n",
        "plt.show()"
      ]
    },
    {
      "cell_type": "markdown",
      "metadata": {
        "id": "voWQe9SIwe35"
      },
      "source": [
        "## VGG16"
      ]
    },
    {
      "cell_type": "markdown",
      "metadata": {
        "id": "XSj_G4DhsUsW"
      },
      "source": [
        "#### Fearure extraction model\n",
        "This has a VGG16 pre-trained model with all layers frozen. Its output is flattened, a classification layer is added after that."
      ]
    },
    {
      "cell_type": "code",
      "execution_count": null,
      "metadata": {
        "id": "CWmN3i-VwaFe"
      },
      "outputs": [],
      "source": [
        "vgg16 = tf.keras.applications.VGG16(include_top=False, weights='imagenet', input_shape=(224,224,3))\n",
        "vgg16.trainable = False"
      ]
    },
    {
      "cell_type": "code",
      "execution_count": null,
      "metadata": {
        "colab": {
          "base_uri": "https://localhost:8080/",
          "height": 289
        },
        "id": "hNsAgng90OQJ",
        "outputId": "8fcb58c2-adf5-474e-cb8a-4d7a775c04fa"
      },
      "outputs": [
        {
          "name": "stdout",
          "output_type": "stream",
          "text": [
            "Model: \"sequential_7\"\n",
            "_________________________________________________________________\n",
            "Layer (type)                 Output Shape              Param #   \n",
            "=================================================================\n",
            "vgg16 (Model)                (None, 7, 7, 512)         14714688  \n",
            "_________________________________________________________________\n",
            "flatten_6 (Flatten)          (None, 25088)             0         \n",
            "_________________________________________________________________\n",
            "dropout_11 (Dropout)         (None, 25088)             0         \n",
            "_________________________________________________________________\n",
            "dense_11 (Dense)             (None, 15)                376335    \n",
            "=================================================================\n",
            "Total params: 15,091,023\n",
            "Trainable params: 376,335\n",
            "Non-trainable params: 14,714,688\n",
            "_________________________________________________________________\n"
          ]
        }
      ],
      "source": [
        "vgg16_model = tf.keras.models.Sequential()\n",
        "vgg16_model.add(vgg16)\n",
        "vgg16_model.add(tf.keras.layers.Flatten())\n",
        "vgg16_model.add(tf.keras.layers.Dropout(0.5))\n",
        "vgg16_model.add(tf.keras.layers.Dense(15, activation='softmax'))\n",
        "vgg16_model.compile(loss=tf.keras.losses.categorical_crossentropy,\n",
        "                    optimizer=tf.keras.optimizers.RMSprop(lr=0.0001),metrics=['accuracy'])\n",
        "vgg16_model.summary()"
      ]
    },
    {
      "cell_type": "code",
      "execution_count": null,
      "metadata": {
        "colab": {
          "base_uri": "https://localhost:8080/",
          "height": 717
        },
        "id": "oK74bZxd0kVG",
        "outputId": "ae26eee5-ffdb-4741-a78c-866e23347df5"
      },
      "outputs": [
        {
          "name": "stdout",
          "output_type": "stream",
          "text": [
            "Epoch 1/20\n",
            "114/114 [==============================] - 117s 1s/step - loss: 1.8869 - accuracy: 0.4039 - val_loss: 1.1487 - val_accuracy: 0.7237\n",
            "Epoch 2/20\n",
            "114/114 [==============================] - 118s 1s/step - loss: 1.0002 - accuracy: 0.7072 - val_loss: 0.8004 - val_accuracy: 0.7847\n",
            "Epoch 3/20\n",
            "114/114 [==============================] - 117s 1s/step - loss: 0.6951 - accuracy: 0.7920 - val_loss: 0.6764 - val_accuracy: 0.8113\n",
            "Epoch 4/20\n",
            "114/114 [==============================] - 115s 1s/step - loss: 0.5536 - accuracy: 0.8300 - val_loss: 0.6594 - val_accuracy: 0.7966\n",
            "Epoch 5/20\n",
            "114/114 [==============================] - 116s 1s/step - loss: 0.4632 - accuracy: 0.8656 - val_loss: 0.5737 - val_accuracy: 0.8277\n",
            "Epoch 6/20\n",
            "114/114 [==============================] - 116s 1s/step - loss: 0.3854 - accuracy: 0.8901 - val_loss: 0.5708 - val_accuracy: 0.8181\n",
            "Epoch 7/20\n",
            "114/114 [==============================] - 116s 1s/step - loss: 0.3168 - accuracy: 0.9127 - val_loss: 0.5250 - val_accuracy: 0.8305\n",
            "Epoch 8/20\n",
            "114/114 [==============================] - 116s 1s/step - loss: 0.2808 - accuracy: 0.9209 - val_loss: 0.5225 - val_accuracy: 0.8373\n",
            "Epoch 9/20\n",
            "114/114 [==============================] - 117s 1s/step - loss: 0.2530 - accuracy: 0.9292 - val_loss: 0.4866 - val_accuracy: 0.8441\n",
            "Epoch 10/20\n",
            "114/114 [==============================] - 118s 1s/step - loss: 0.2103 - accuracy: 0.9468 - val_loss: 0.4796 - val_accuracy: 0.8441\n",
            "Epoch 11/20\n",
            "114/114 [==============================] - 116s 1s/step - loss: 0.2002 - accuracy: 0.9485 - val_loss: 0.5159 - val_accuracy: 0.8322\n",
            "Epoch 12/20\n",
            "114/114 [==============================] - 115s 1s/step - loss: 0.1669 - accuracy: 0.9573 - val_loss: 0.4708 - val_accuracy: 0.8480\n",
            "Epoch 13/20\n",
            "114/114 [==============================] - 115s 1s/step - loss: 0.1505 - accuracy: 0.9606 - val_loss: 0.4790 - val_accuracy: 0.8469\n",
            "Epoch 14/20\n",
            "114/114 [==============================] - 122s 1s/step - loss: 0.1367 - accuracy: 0.9678 - val_loss: 0.5016 - val_accuracy: 0.8418\n",
            "Epoch 15/20\n",
            "114/114 [==============================] - 121s 1s/step - loss: 0.1264 - accuracy: 0.9716 - val_loss: 0.4572 - val_accuracy: 0.8571\n",
            "Epoch 16/20\n",
            "114/114 [==============================] - 121s 1s/step - loss: 0.1097 - accuracy: 0.9796 - val_loss: 0.4571 - val_accuracy: 0.8559\n",
            "Epoch 17/20\n",
            "114/114 [==============================] - 120s 1s/step - loss: 0.1041 - accuracy: 0.9774 - val_loss: 0.4987 - val_accuracy: 0.8429\n",
            "Epoch 18/20\n",
            "114/114 [==============================] - 118s 1s/step - loss: 0.0915 - accuracy: 0.9813 - val_loss: 0.4534 - val_accuracy: 0.8655\n",
            "Epoch 19/20\n",
            "114/114 [==============================] - 124s 1s/step - loss: 0.0824 - accuracy: 0.9835 - val_loss: 0.4868 - val_accuracy: 0.8424\n",
            "Epoch 20/20\n",
            "114/114 [==============================] - 120s 1s/step - loss: 0.0678 - accuracy: 0.9887 - val_loss: 0.4726 - val_accuracy: 0.8503\n"
          ]
        }
      ],
      "source": [
        "vgg16_hist = vgg16_model.fit_generator(train_generator,validation_data=valid_generator,epochs=20,\n",
        "                                       steps_per_epoch=114,validation_steps=56)"
      ]
    },
    {
      "cell_type": "code",
      "execution_count": null,
      "metadata": {
        "colab": {
          "base_uri": "https://localhost:8080/",
          "height": 51
        },
        "id": "gPo3D8hBFDww",
        "outputId": "ccccb946-cf98-4e54-95f6-cd329ebfc058"
      },
      "outputs": [
        {
          "name": "stdout",
          "output_type": "stream",
          "text": [
            "57/57 [==============================] - 25s 441ms/step - loss: 0.4706 - accuracy: 0.8468\n",
            "VGG16 model validation accuracy: 0.8468\n"
          ]
        }
      ],
      "source": [
        "_, vgg16_val_acc = vgg16_model.evaluate(valid_generator,steps=57)\n",
        "print('VGG16 model validation accuracy: %.4f' % vgg16_val_acc)"
      ]
    },
    {
      "cell_type": "markdown",
      "metadata": {
        "id": "jEJu32lT77go"
      },
      "source": [
        "#### Fine tuned model\n",
        "Here we unfreeze a portion of the VGG16 model"
      ]
    },
    {
      "cell_type": "code",
      "execution_count": null,
      "metadata": {
        "id": "NxMr1R96sjJO"
      },
      "outputs": [],
      "source": [
        "vgg16_ft = tf.keras.applications.VGG16(include_top=False, weights='imagenet', input_shape=(224,224,3))\n",
        "for layer in vgg16_ft.layers[:-8]:\n",
        "  layer.trainable = False"
      ]
    },
    {
      "cell_type": "code",
      "execution_count": null,
      "metadata": {
        "colab": {
          "base_uri": "https://localhost:8080/",
          "height": 289
        },
        "id": "3QIhuZ9IsjAO",
        "outputId": "1ce7b8c0-f376-4c18-cb8e-3db0f4de79a6"
      },
      "outputs": [
        {
          "name": "stdout",
          "output_type": "stream",
          "text": [
            "Model: \"sequential_14\"\n",
            "_________________________________________________________________\n",
            "Layer (type)                 Output Shape              Param #   \n",
            "=================================================================\n",
            "vgg16 (Model)                (None, 7, 7, 512)         14714688  \n",
            "_________________________________________________________________\n",
            "flatten_13 (Flatten)         (None, 25088)             0         \n",
            "_________________________________________________________________\n",
            "dropout_18 (Dropout)         (None, 25088)             0         \n",
            "_________________________________________________________________\n",
            "dense_18 (Dense)             (None, 15)                376335    \n",
            "=================================================================\n",
            "Total params: 15,091,023\n",
            "Trainable params: 13,355,535\n",
            "Non-trainable params: 1,735,488\n",
            "_________________________________________________________________\n"
          ]
        }
      ],
      "source": [
        "vgg16_ft_model = tf.keras.models.Sequential()\n",
        "vgg16_ft_model.add(vgg16_ft)\n",
        "vgg16_ft_model.add(tf.keras.layers.Flatten())\n",
        "vgg16_ft_model.add(tf.keras.layers.Dropout(0.5))\n",
        "vgg16_ft_model.add(tf.keras.layers.Dense(15, activation='softmax'))\n",
        "vgg16_ft_model.compile(loss=tf.keras.losses.categorical_crossentropy,\n",
        "                    optimizer=tf.keras.optimizers.Adamax(lr=0.0001),metrics=['accuracy'])\n",
        "vgg16_ft_model.summary()"
      ]
    },
    {
      "cell_type": "code",
      "execution_count": null,
      "metadata": {
        "colab": {
          "base_uri": "https://localhost:8080/",
          "height": 717
        },
        "id": "nqyS1oF68imT",
        "outputId": "3966d80d-852a-424c-d0a2-8c10b82bdbd0"
      },
      "outputs": [
        {
          "name": "stdout",
          "output_type": "stream",
          "text": [
            "Epoch 1/20\n",
            "114/114 [==============================] - 129s 1s/step - loss: 1.7502 - accuracy: 0.4262 - val_loss: 0.8798 - val_accuracy: 0.7198\n",
            "Epoch 2/20\n",
            "114/114 [==============================] - 122s 1s/step - loss: 0.7769 - accuracy: 0.7457 - val_loss: 0.6335 - val_accuracy: 0.7915\n",
            "Epoch 3/20\n",
            "114/114 [==============================] - 124s 1s/step - loss: 0.5181 - accuracy: 0.8342 - val_loss: 0.5690 - val_accuracy: 0.8040\n",
            "Epoch 4/20\n",
            "114/114 [==============================] - 121s 1s/step - loss: 0.3359 - accuracy: 0.8848 - val_loss: 0.6499 - val_accuracy: 0.7881\n",
            "Epoch 5/20\n",
            "114/114 [==============================] - 120s 1s/step - loss: 0.2711 - accuracy: 0.9072 - val_loss: 0.4822 - val_accuracy: 0.8429\n",
            "Epoch 6/20\n",
            "114/114 [==============================] - 122s 1s/step - loss: 0.1926 - accuracy: 0.9372 - val_loss: 0.4792 - val_accuracy: 0.8446\n",
            "Epoch 7/20\n",
            "114/114 [==============================] - 121s 1s/step - loss: 0.1395 - accuracy: 0.9518 - val_loss: 0.4379 - val_accuracy: 0.8486\n",
            "Epoch 8/20\n",
            "114/114 [==============================] - 120s 1s/step - loss: 0.1067 - accuracy: 0.9658 - val_loss: 0.4487 - val_accuracy: 0.8616\n",
            "Epoch 9/20\n",
            "114/114 [==============================] - 121s 1s/step - loss: 0.0863 - accuracy: 0.9733 - val_loss: 0.5902 - val_accuracy: 0.8395\n",
            "Epoch 10/20\n",
            "114/114 [==============================] - 120s 1s/step - loss: 0.0724 - accuracy: 0.9758 - val_loss: 0.4642 - val_accuracy: 0.8588\n",
            "Epoch 11/20\n",
            "114/114 [==============================] - 122s 1s/step - loss: 0.0545 - accuracy: 0.9802 - val_loss: 0.4277 - val_accuracy: 0.8695\n",
            "Epoch 12/20\n",
            "114/114 [==============================] - 122s 1s/step - loss: 0.0445 - accuracy: 0.9865 - val_loss: 0.4620 - val_accuracy: 0.8605\n",
            "Epoch 13/20\n",
            "114/114 [==============================] - 124s 1s/step - loss: 0.0386 - accuracy: 0.9873 - val_loss: 0.4575 - val_accuracy: 0.8718\n",
            "Epoch 14/20\n",
            "114/114 [==============================] - 125s 1s/step - loss: 0.0349 - accuracy: 0.9895 - val_loss: 0.4075 - val_accuracy: 0.8768\n",
            "Epoch 15/20\n",
            "114/114 [==============================] - 124s 1s/step - loss: 0.0279 - accuracy: 0.9901 - val_loss: 0.4673 - val_accuracy: 0.8774\n",
            "Epoch 16/20\n",
            "114/114 [==============================] - 125s 1s/step - loss: 0.0331 - accuracy: 0.9893 - val_loss: 0.4184 - val_accuracy: 0.8785\n",
            "Epoch 17/20\n",
            "114/114 [==============================] - 123s 1s/step - loss: 0.0193 - accuracy: 0.9950 - val_loss: 0.4770 - val_accuracy: 0.8678\n",
            "Epoch 18/20\n",
            "114/114 [==============================] - 122s 1s/step - loss: 0.0182 - accuracy: 0.9959 - val_loss: 0.4794 - val_accuracy: 0.8836\n",
            "Epoch 19/20\n",
            "114/114 [==============================] - 118s 1s/step - loss: 0.0165 - accuracy: 0.9964 - val_loss: 0.5230 - val_accuracy: 0.8701\n",
            "Epoch 20/20\n",
            "114/114 [==============================] - 122s 1s/step - loss: 0.0233 - accuracy: 0.9945 - val_loss: 0.4707 - val_accuracy: 0.8819\n"
          ]
        }
      ],
      "source": [
        "vgg16_ft_hist = vgg16_ft_model.fit_generator(train_generator,validation_data=valid_generator,epochs=20,\n",
        "                                       steps_per_epoch=114,validation_steps=56)"
      ]
    },
    {
      "cell_type": "code",
      "execution_count": null,
      "metadata": {
        "colab": {
          "base_uri": "https://localhost:8080/",
          "height": 51
        },
        "id": "WwtUPeDH8if2",
        "outputId": "c06e436d-d01c-4ea5-abcb-2457b73763c5"
      },
      "outputs": [
        {
          "name": "stdout",
          "output_type": "stream",
          "text": [
            "57/57 [==============================] - 25s 440ms/step - loss: 0.4559 - accuracy: 0.8840\n",
            "VGG16 model validation accuracy: 0.8840\n"
          ]
        }
      ],
      "source": [
        "_, vgg16_ft_val_acc = vgg16_ft_model.evaluate(valid_generator,steps=57)\n",
        "print('VGG16 model validation accuracy: %.4f' % vgg16_ft_val_acc)"
      ]
    },
    {
      "cell_type": "markdown",
      "metadata": {
        "id": "EvkRxDcJ9Fuy"
      },
      "source": [
        "#### Results\n",
        "<br>Test Accuracy of VGG16 Base and Fine tuned models.<br>\n",
        "VGG16 base model - 87.3% test acc<br>\n",
        "VGG16 Fine tuned - 90.1% test acc"
      ]
    },
    {
      "cell_type": "code",
      "execution_count": null,
      "metadata": {
        "colab": {
          "base_uri": "https://localhost:8080/",
          "height": 51
        },
        "id": "wtZcHMtvCp3U",
        "outputId": "072f557f-d4f8-4ae2-d3b8-d912c603f31c"
      },
      "outputs": [
        {
          "name": "stdout",
          "output_type": "stream",
          "text": [
            "57/57 [==============================] - 39s 678ms/step - loss: 0.3866 - accuracy: 0.8728\n",
            "VGG16 base model test accuracy: 0.8728\n"
          ]
        }
      ],
      "source": [
        "_, vgg16_acc = vgg16_model.evaluate(test_generator,steps=57)\n",
        "print('VGG16 base model test accuracy: %.4f' % vgg16_acc)"
      ]
    },
    {
      "cell_type": "code",
      "execution_count": null,
      "metadata": {
        "colab": {
          "base_uri": "https://localhost:8080/",
          "height": 51
        },
        "id": "NfaBsZkl9ISF",
        "outputId": "5465f00c-0249-4cb5-a061-d1b4c58542a4"
      },
      "outputs": [
        {
          "name": "stdout",
          "output_type": "stream",
          "text": [
            "57/57 [==============================] - 38s 671ms/step - loss: 0.4028 - accuracy: 0.9006\n",
            "VGG16 Fine tuned model test accuracy: 0.9006\n"
          ]
        }
      ],
      "source": [
        "_, vgg16_ft_acc = vgg16_ft_model.evaluate(test_generator,steps=57)\n",
        "print('VGG16 Fine tuned model test accuracy: %.4f' % vgg16_ft_acc)"
      ]
    },
    {
      "cell_type": "code",
      "execution_count": null,
      "metadata": {
        "colab": {
          "base_uri": "https://localhost:8080/",
          "height": 350
        },
        "id": "e8iJFIpmDdo5",
        "outputId": "1375cec5-e1ae-4ba2-c342-64e79a377c76"
      },
      "outputs": [
        {
          "data": {
            "image/png": "[encoded data removed]",
            "text/plain": [
              "<Figure size 720x360 with 2 Axes>"
            ]
          },
          "metadata": {
            "needs_background": "light",
            "tags": []
          },
          "output_type": "display_data"
        }
      ],
      "source": [
        "# Loss and Accuracy plots of VGG16 pre-trained model\n",
        "fig = plt.gcf()\n",
        "fig.set_size_inches(10,5)\n",
        "plt.subplot(1,2,1)\n",
        "plt.plot(vgg16_hist.history['loss'])\n",
        "plt.plot(vgg16_hist.history['val_loss'])\n",
        "plt.title('VGG16 base Model Loss')\n",
        "plt.ylabel('Loss')\n",
        "\n",
        "plt.xlabel('Epoch')\n",
        "plt.legend(['Train', 'Validation'], loc='upper left')\n",
        "plt.subplot(1,2,2)\n",
        "plt.plot(vgg16_hist.history['accuracy'])\n",
        "plt.plot(vgg16_hist.history['val_accuracy'])\n",
        "plt.title('VGG16 base Model Accuracy')\n",
        "plt.ylabel('Accuracy')\n",
        "plt.xlabel('Epoch')\n",
        "plt.legend(['Train', 'Validation'], loc='upper left')\n",
        "plt.show()"
      ]
    },
    {
      "cell_type": "code",
      "execution_count": null,
      "metadata": {
        "colab": {
          "base_uri": "https://localhost:8080/",
          "height": 350
        },
        "id": "35FrgbCmGwLb",
        "outputId": "1fe5899b-2449-4262-9b7b-c8c2d28d1e31"
      },
      "outputs": [
        {
          "data": {
            "image/png": "[encoded data removed]",
            "text/plain": [
              "<Figure size 720x360 with 2 Axes>"
            ]
          },
          "metadata": {
            "needs_background": "light",
            "tags": []
          },
          "output_type": "display_data"
        }
      ],
      "source": [
        "# Loss and Accuracy plots of VGG16 fine tuned model\n",
        "fig = plt.gcf()\n",
        "fig.set_size_inches(10,5)\n",
        "plt.subplot(1,2,1)\n",
        "plt.plot(vgg16_ft_hist.history['loss'])\n",
        "plt.plot(vgg16_ft_hist.history['val_loss'])\n",
        "plt.title('VGG16 Fine tuned Model Loss')\n",
        "plt.ylabel('Loss')\n",
        "\n",
        "plt.xlabel('Epoch')\n",
        "plt.legend(['Train', 'Validation'], loc='upper left')\n",
        "plt.subplot(1,2,2)\n",
        "plt.plot(vgg16_ft_hist.history['accuracy'])\n",
        "plt.plot(vgg16_ft_hist.history['val_accuracy'])\n",
        "plt.title('VGG16 Fine tuned Model Accuracy')\n",
        "plt.ylabel('Accuracy')\n",
        "plt.xlabel('Epoch')\n",
        "plt.legend(['Train', 'Validation'], loc='upper left')\n",
        "plt.show()"
      ]
    },
    {
      "cell_type": "markdown",
      "metadata": {
        "id": "wzfA7CqrOzoP"
      },
      "source": [
        "## Comparison of Resnet101 and VGG16"
      ]
    },
    {
      "cell_type": "markdown",
      "metadata": {
        "id": "iaQm7vu3O7d4"
      },
      "source": [
        "ResNet101 Base model : 44.8%<br>\n",
        "ResNet101 Fine tuned model : 54.4%<br>\n",
        "VGG16 Base model : 87.3%<br>\n",
        "VGG16 Fine tuned model : 90.1%"
      ]
    },
    {
      "cell_type": "markdown",
      "metadata": {
        "id": "3m6RgNpsQIbF"
      },
      "source": [
        "The ResNet101 model is not able to perform well for this particular dataset. Although, unfreezing few layers does have a positive effect on performance.<br>\n",
        "The VGG16 model performs well for this data and gives decent accuracy. Unfreezing few portions of this pre-trained model has a slight increase in accuracy."
      ]
    }
  ],
  "metadata": {
    "accelerator": "GPU",
    "colab": {
      "provenance": [],
      "toc_visible": true
    },
    "kernelspec": {
      "display_name": "Python 3.11.0 64-bit",
      "language": "python",
      "name": "python3"
    },
    "language_info": {
      "name": "python",
      "version": "3.11.0"
    },
    "vscode": {
      "interpreter": {
        "hash": "ed2a0352f8fa725fe378358a18f144b1bad05c3c17c1bb888a8155322be70ca8"
      }
    }
  },
  "nbformat": 4,
  "nbformat_minor": 0
}
